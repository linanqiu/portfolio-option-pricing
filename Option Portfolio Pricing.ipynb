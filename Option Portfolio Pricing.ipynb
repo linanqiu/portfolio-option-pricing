{
 "cells": [
  {
   "cell_type": "code",
   "execution_count": 1,
   "metadata": {},
   "outputs": [],
   "source": [
    "import QuantLib as ql\n",
    "from datetime import date\n",
    "import pandas\n",
    "import plotly.express as px\n",
    "import csv"
   ]
  },
  {
   "cell_type": "code",
   "execution_count": 2,
   "metadata": {},
   "outputs": [],
   "source": [
    "# one option example\n",
    "# http://gouthamanbalaraman.com/blog/american-option-pricing-quantlib-python.html\n",
    "\n",
    "# date_mat = ql.Date(31, 12, 2019)\n",
    "# price_spot = 105\n",
    "# price_strike = 100\n",
    "# vol = 0.2\n",
    "# dividend_rate = 0.02\n",
    "# option_type = ql.Option.Call\n",
    "\n",
    "# risk_free_rate = 0.0153\n",
    "# day_count = ql.Actual365Fixed()\n",
    "# calendar = ql.UnitedStates()\n",
    "\n",
    "# date_calc = ql.Date(17, 12, 2019)\n",
    "# ql.Settings.instance().evaluationDate = date_calc\n",
    "\n",
    "# payoff = ql.PlainVanillaPayoff(option_type, price_strike)\n",
    "# settlement = date_calc\n",
    "# am_exercise = ql.AmericanExercise(settlement, date_mat)\n",
    "# american_option = ql.VanillaOption(payoff, am_exercise)\n",
    "\n",
    "# spot_handle = ql.QuoteHandle(ql.SimpleQuote(price_spot))\n",
    "# flat_ts = ql.YieldTermStructureHandle(ql.FlatForward(date_calc, risk_free_rate, day_count))\n",
    "# dividend_yield = ql.YieldTermStructureHandle(ql.FlatForward(date_calc, dividend_rate, day_count))\n",
    "# flat_vol_ts = ql.BlackVolTermStructureHandle(ql.BlackConstantVol(date_calc, calendar, vol, day_count))\n",
    "\n",
    "# bsm_process = ql.BlackScholesMertonProcess(spot_handle, dividend_yield, flat_ts, flat_vol_ts)\n",
    "\n",
    "# steps = 200\n",
    "\n",
    "# binomial_engine = ql.BinomialVanillaEngine(bsm_process, 'crr', steps)\n",
    "# american_option.setPricingEngine(binomial_engine)\n",
    "# print (american_option.NPV())"
   ]
  },
  {
   "cell_type": "code",
   "execution_count": 3,
   "metadata": {},
   "outputs": [],
   "source": [
    "def npv_single(date_mat, \n",
    "               price_spot, \n",
    "               price_strike, \n",
    "               vol, \n",
    "               option_type, \n",
    "               risk_free_rate, \n",
    "               date_calc,\n",
    "               dividend_rate=0,\n",
    "               steps=200):\n",
    "    if date_mat < date_calc:\n",
    "        return 0\n",
    "    \n",
    "    day_count = ql.Actual365Fixed()\n",
    "    calendar = ql.UnitedStates()\n",
    "\n",
    "    ql.Settings.instance().evaluationDate = date_calc\n",
    "\n",
    "    payoff = ql.PlainVanillaPayoff(option_type, price_strike)\n",
    "    settlement = date_calc\n",
    "    am_exercise = ql.AmericanExercise(settlement, date_mat)\n",
    "    american_option = ql.VanillaOption(payoff, am_exercise)\n",
    "\n",
    "    spot_handle = ql.QuoteHandle(ql.SimpleQuote(price_spot))\n",
    "    flat_ts = ql.YieldTermStructureHandle(ql.FlatForward(date_calc, risk_free_rate, day_count))\n",
    "    dividend_yield = ql.YieldTermStructureHandle(ql.FlatForward(date_calc, dividend_rate, day_count))\n",
    "    flat_vol_ts = ql.BlackVolTermStructureHandle(ql.BlackConstantVol(date_calc, calendar, vol, day_count))\n",
    "\n",
    "    bsm_process = ql.BlackScholesMertonProcess(spot_handle, dividend_yield, flat_ts, flat_vol_ts)\n",
    "\n",
    "    binomial_engine = ql.BinomialVanillaEngine(bsm_process, 'crr', steps)\n",
    "    american_option.setPricingEngine(binomial_engine)\n",
    "    \n",
    "    return american_option.NPV()\n",
    "\n",
    "def npv_portfolio(options, date_calc=None):\n",
    "    \n",
    "    def call_npv(option, date_calc):\n",
    "        \n",
    "        date_mat = ql.DateParser.parse(option['date_mat'], '%m/%d/%Y')\n",
    "        price_spot = option['price_spot']\n",
    "        price_strike = option['price_strike']\n",
    "        vol = option['vol']\n",
    "        option_type = ql.Option.Call if option['option_type'] == 'call' else ql.Option.Put\n",
    "        risk_free_rate = option['risk_free_rate']\n",
    "        date_calc = ql.DateParser.parse(date_calc, '%m/%d/%Y') if date_calc is not None else ql.Date(date.today().day, date.today().month, date.today().year)\n",
    "        \n",
    "#         print('Calculating NPV on %s for %s' % (date_calc, option))\n",
    "        \n",
    "        return npv_single(date_mat, price_spot, price_strike, vol, option_type, risk_free_rate, date_calc)\n",
    "        \n",
    "    npvs = [call_npv(option, date_calc) for option in options]\n",
    "    return npvs"
   ]
  },
  {
   "cell_type": "code",
   "execution_count": 4,
   "metadata": {},
   "outputs": [
    {
     "data": {
      "text/plain": [
       "5.256971896281935"
      ]
     },
     "execution_count": 4,
     "metadata": {},
     "output_type": "execute_result"
    }
   ],
   "source": [
    "npv_single(ql.Date(31, 12, 2019), 105, 100, 0.2, ql.Option.Call, 0.0153, ql.Date(17, 12, 2019))"
   ]
  },
  {
   "cell_type": "code",
   "execution_count": 5,
   "metadata": {},
   "outputs": [
    {
     "name": "stdout",
     "output_type": "stream",
     "text": [
      "[{'date_mat': '12/31/2019', 'price_spot': 150, 'price_strike': 145, 'vol': 0.1, 'option_type': 'call', 'risk_free_rate': 0.0153}, {'date_mat': '12/31/2019', 'price_spot': 150, 'price_strike': 145, 'vol': 0.1, 'option_type': 'put', 'risk_free_rate': 0.0153}, {'date_mat': '12/14/2019', 'price_spot': 150, 'price_strike': 145, 'vol': 0.1, 'option_type': 'call', 'risk_free_rate': 0.0153}]\n",
      "[{'date_mat': '12/31/2019', 'price_spot': 150.0, 'price_strike': 145.0, 'vol': 0.1, 'option_type': 'call', 'risk_free_rate': 0.0153}, {'date_mat': '12/31/2019', 'price_spot': 150.0, 'price_strike': 145.0, 'vol': 0.1, 'option_type': 'put', 'risk_free_rate': 0.0153}, {'date_mat': '12/14/2019', 'price_spot': 150.0, 'price_strike': 145.0, 'vol': 0.1, 'option_type': 'call', 'risk_free_rate': 0.0153}]\n"
     ]
    }
   ],
   "source": [
    "# you can input it as a series of dicts like this\n",
    "options = [\n",
    "    {'date_mat': '12/31/2019', 'price_spot': 150, 'price_strike': 145, 'vol': 0.1, 'option_type': 'call', 'risk_free_rate': 0.0153},\n",
    "    {'date_mat': '12/31/2019', 'price_spot': 150, 'price_strike': 145, 'vol': 0.1, 'option_type': 'put', 'risk_free_rate': 0.0153},\n",
    "    {'date_mat': '12/14/2019', 'price_spot': 150, 'price_strike': 145, 'vol': 0.1, 'option_type': 'call', 'risk_free_rate': 0.0153}\n",
    "]\n",
    "\n",
    "print(options)\n",
    "\n",
    "# or read it as a CSV:\n",
    "with open('input.csv') as f:\n",
    "    def try_parse(i):\n",
    "        try:\n",
    "            return float(i)\n",
    "        except ValueError:\n",
    "            return i\n",
    "    \n",
    "    options = [{k: try_parse(v) for k, v in row.items()}\n",
    "        for row in csv.DictReader(f, skipinitialspace=True)]\n",
    "\n",
    "print(options)"
   ]
  },
  {
   "cell_type": "code",
   "execution_count": 6,
   "metadata": {},
   "outputs": [
    {
     "name": "stdout",
     "output_type": "stream",
     "text": [
      "NPV for the portfolio on a single day\n",
      "[5.160771469992204, 0.06373640388023276, 0]\n"
     ]
    }
   ],
   "source": [
    "# single day\n",
    "npv_single_day = npv_portfolio(options, '12/15/2019')\n",
    "print('NPV for the portfolio on a single day')\n",
    "print(npv_single_day)"
   ]
  },
  {
   "cell_type": "code",
   "execution_count": 7,
   "metadata": {},
   "outputs": [
    {
     "name": "stdout",
     "output_type": "stream",
     "text": [
      "NPV for the portfolio through many days\n",
      "['12/01/2019', '12/02/2019', '12/03/2019', '12/04/2019', '12/05/2019', '12/06/2019', '12/07/2019', '12/08/2019', '12/09/2019', '12/10/2019', '12/11/2019', '12/12/2019', '12/13/2019', '12/14/2019', '12/15/2019', '12/16/2019', '12/17/2019']\n",
      "[10.749238942389724, 10.704640863591793, 10.660393784725297, 10.616530476295633, 10.572818807231293, 10.533564863217965, 10.495375084179667, 10.457573169750974, 10.420062550922573, 10.381966629360743, 10.349532054451956, 10.311536502606305, 10.282241319495178, 5.249110061827135, 5.224507873872437, 5.1992479254020125, 5.175721932161299]\n"
     ]
    }
   ],
   "source": [
    "# date range\n",
    "dates = list(pandas.date_range('12/1/2019', '12/17/2019').strftime('%m/%d/%Y'))\n",
    "npvs = [sum(npv_portfolio(options, date)) for date in dates]\n",
    "print('NPV for the portfolio through many days')\n",
    "print(dates)\n",
    "print(npvs)\n",
    "# NPV jumps on 12/15 because one of the call options expires at 12/14"
   ]
  },
  {
   "cell_type": "code",
   "execution_count": 10,
   "metadata": {
    "scrolled": false
   },
   "outputs": [
    {
     "data": {
      "image/svg+xml": [
       "<svg class=\"main-svg\" xmlns=\"http://www.w3.org/2000/svg\" xmlns:xlink=\"http://www.w3.org/1999/xlink\" width=\"700\" height=\"450\" viewBox=\"0 0 700 450\"><rect x=\"0\" y=\"0\" width=\"700\" height=\"450\" style=\"fill: rgb(255, 255, 255); fill-opacity: 1;\"/><defs id=\"defs-d9b292\"><g class=\"clips\"><clipPath id=\"clipd9b292xyplot\" class=\"plotclip\"><rect width=\"540\" height=\"303\"/></clipPath><clipPath class=\"axesclip\" id=\"clipd9b292x\"><rect x=\"80\" y=\"0\" width=\"540\" height=\"450\"/></clipPath><clipPath class=\"axesclip\" id=\"clipd9b292y\"><rect x=\"0\" y=\"60\" width=\"700\" height=\"303\"/></clipPath><clipPath class=\"axesclip\" id=\"clipd9b292xy\"><rect x=\"80\" y=\"60\" width=\"540\" height=\"303\"/></clipPath></g><g class=\"gradients\"/></defs><g class=\"bglayer\"><rect class=\"bg\" x=\"80\" y=\"60\" width=\"540\" height=\"303\" style=\"fill: rgb(229, 236, 246); fill-opacity: 1; stroke-width: 0;\"/></g><g class=\"layer-below\"><g class=\"imagelayer\"/><g class=\"shapelayer\"/></g><g class=\"cartesianlayer\"><g class=\"subplot xy\"><g class=\"layer-subplot\"><g class=\"shapelayer\"/><g class=\"imagelayer\"/></g><g class=\"gridlayer\"><g class=\"x\"><path class=\"xgrid crisp\" transform=\"translate(113.75,0)\" d=\"M0,60v303\" style=\"stroke: rgb(255, 255, 255); stroke-opacity: 1; stroke-width: 1px;\"/><path class=\"xgrid crisp\" transform=\"translate(147.5,0)\" d=\"M0,60v303\" style=\"stroke: rgb(255, 255, 255); stroke-opacity: 1; stroke-width: 1px;\"/><path class=\"xgrid crisp\" transform=\"translate(181.25,0)\" d=\"M0,60v303\" style=\"stroke: rgb(255, 255, 255); stroke-opacity: 1; stroke-width: 1px;\"/><path class=\"xgrid crisp\" transform=\"translate(215,0)\" d=\"M0,60v303\" style=\"stroke: rgb(255, 255, 255); stroke-opacity: 1; stroke-width: 1px;\"/><path class=\"xgrid crisp\" transform=\"translate(248.75,0)\" d=\"M0,60v303\" style=\"stroke: rgb(255, 255, 255); stroke-opacity: 1; stroke-width: 1px;\"/><path class=\"xgrid crisp\" transform=\"translate(282.5,0)\" d=\"M0,60v303\" style=\"stroke: rgb(255, 255, 255); stroke-opacity: 1; stroke-width: 1px;\"/><path class=\"xgrid crisp\" transform=\"translate(316.25,0)\" d=\"M0,60v303\" style=\"stroke: rgb(255, 255, 255); stroke-opacity: 1; stroke-width: 1px;\"/><path class=\"xgrid crisp\" transform=\"translate(350,0)\" d=\"M0,60v303\" style=\"stroke: rgb(255, 255, 255); stroke-opacity: 1; stroke-width: 1px;\"/><path class=\"xgrid crisp\" transform=\"translate(383.75,0)\" d=\"M0,60v303\" style=\"stroke: rgb(255, 255, 255); stroke-opacity: 1; stroke-width: 1px;\"/><path class=\"xgrid crisp\" transform=\"translate(417.5,0)\" d=\"M0,60v303\" style=\"stroke: rgb(255, 255, 255); stroke-opacity: 1; stroke-width: 1px;\"/><path class=\"xgrid crisp\" transform=\"translate(451.25,0)\" d=\"M0,60v303\" style=\"stroke: rgb(255, 255, 255); stroke-opacity: 1; stroke-width: 1px;\"/><path class=\"xgrid crisp\" transform=\"translate(485,0)\" d=\"M0,60v303\" style=\"stroke: rgb(255, 255, 255); stroke-opacity: 1; stroke-width: 1px;\"/><path class=\"xgrid crisp\" transform=\"translate(518.75,0)\" d=\"M0,60v303\" style=\"stroke: rgb(255, 255, 255); stroke-opacity: 1; stroke-width: 1px;\"/><path class=\"xgrid crisp\" transform=\"translate(552.5,0)\" d=\"M0,60v303\" style=\"stroke: rgb(255, 255, 255); stroke-opacity: 1; stroke-width: 1px;\"/><path class=\"xgrid crisp\" transform=\"translate(586.25,0)\" d=\"M0,60v303\" style=\"stroke: rgb(255, 255, 255); stroke-opacity: 1; stroke-width: 1px;\"/></g><g class=\"y\"><path class=\"ygrid crisp\" transform=\"translate(0,356.45)\" d=\"M80,0h540\" style=\"stroke: rgb(255, 255, 255); stroke-opacity: 1; stroke-width: 1px;\"/><path class=\"ygrid crisp\" transform=\"translate(0,307.52)\" d=\"M80,0h540\" style=\"stroke: rgb(255, 255, 255); stroke-opacity: 1; stroke-width: 1px;\"/><path class=\"ygrid crisp\" transform=\"translate(0,258.59000000000003)\" d=\"M80,0h540\" style=\"stroke: rgb(255, 255, 255); stroke-opacity: 1; stroke-width: 1px;\"/><path class=\"ygrid crisp\" transform=\"translate(0,209.66)\" d=\"M80,0h540\" style=\"stroke: rgb(255, 255, 255); stroke-opacity: 1; stroke-width: 1px;\"/><path class=\"ygrid crisp\" transform=\"translate(0,160.74)\" d=\"M80,0h540\" style=\"stroke: rgb(255, 255, 255); stroke-opacity: 1; stroke-width: 1px;\"/><path class=\"ygrid crisp\" transform=\"translate(0,111.81)\" d=\"M80,0h540\" style=\"stroke: rgb(255, 255, 255); stroke-opacity: 1; stroke-width: 1px;\"/><path class=\"ygrid crisp\" transform=\"translate(0,62.88)\" d=\"M80,0h540\" style=\"stroke: rgb(255, 255, 255); stroke-opacity: 1; stroke-width: 1px;\"/></g></g><g class=\"zerolinelayer\"/><path class=\"xlines-below\"/><path class=\"ylines-below\"/><g class=\"overlines-below\"/><g class=\"xaxislayer-below\"/><g class=\"yaxislayer-below\"/><g class=\"overaxes-below\"/><g class=\"plot\" transform=\"translate(80, 60)\" clip-path=\"url('#clipd9b292xyplot')\"><g class=\"scatterlayer mlayer\"><g class=\"trace scatter trace9faeaa\" style=\"stroke-miterlimit: 2; opacity: 1;\"><g class=\"fills\"/><g class=\"errorbars\"/><g class=\"lines\"><path class=\"js-line\" d=\"M0,15.15L202.5,27.57L236.25,29.42L405,38L438.75,284.26L540,287.85\" style=\"vector-effect: non-scaling-stroke; fill: none; stroke: rgb(99, 110, 250); stroke-opacity: 1; stroke-width: 2px; opacity: 1;\"/></g><g class=\"points\"/><g class=\"text\"/></g></g></g><g class=\"overplot\"/><path class=\"xlines-above crisp\" d=\"M0,0\" style=\"fill: none;\"/><path class=\"ylines-above crisp\" d=\"M0,0\" style=\"fill: none;\"/><g class=\"overlines-above\"/><g class=\"xaxislayer-above\"><g class=\"xtick\"><text text-anchor=\"start\" x=\"0\" y=\"376\" transform=\"translate(80,0) rotate(30,0,370)\" style=\"font-family: 'Open Sans', verdana, arial, sans-serif; font-size: 12px; fill: rgb(42, 63, 95); fill-opacity: 1; white-space: pre;\">12/01/2019</text></g><g class=\"xtick\"><text text-anchor=\"start\" x=\"0\" y=\"376\" transform=\"translate(113.75,0) rotate(30,0,370)\" style=\"font-family: 'Open Sans', verdana, arial, sans-serif; font-size: 12px; fill: rgb(42, 63, 95); fill-opacity: 1; white-space: pre;\">12/02/2019</text></g><g class=\"xtick\"><text text-anchor=\"start\" x=\"0\" y=\"376\" transform=\"translate(147.5,0) rotate(30,0,370)\" style=\"font-family: 'Open Sans', verdana, arial, sans-serif; font-size: 12px; fill: rgb(42, 63, 95); fill-opacity: 1; white-space: pre;\">12/03/2019</text></g><g class=\"xtick\"><text text-anchor=\"start\" x=\"0\" y=\"376\" transform=\"translate(181.25,0) rotate(30,0,370)\" style=\"font-family: 'Open Sans', verdana, arial, sans-serif; font-size: 12px; fill: rgb(42, 63, 95); fill-opacity: 1; white-space: pre;\">12/04/2019</text></g><g class=\"xtick\"><text text-anchor=\"start\" x=\"0\" y=\"376\" transform=\"translate(215,0) rotate(30,0,370)\" style=\"font-family: 'Open Sans', verdana, arial, sans-serif; font-size: 12px; fill: rgb(42, 63, 95); fill-opacity: 1; white-space: pre;\">12/05/2019</text></g><g class=\"xtick\"><text text-anchor=\"start\" x=\"0\" y=\"376\" transform=\"translate(248.75,0) rotate(30,0,370)\" style=\"font-family: 'Open Sans', verdana, arial, sans-serif; font-size: 12px; fill: rgb(42, 63, 95); fill-opacity: 1; white-space: pre;\">12/06/2019</text></g><g class=\"xtick\"><text text-anchor=\"start\" x=\"0\" y=\"376\" transform=\"translate(282.5,0) rotate(30,0,370)\" style=\"font-family: 'Open Sans', verdana, arial, sans-serif; font-size: 12px; fill: rgb(42, 63, 95); fill-opacity: 1; white-space: pre;\">12/07/2019</text></g><g class=\"xtick\"><text text-anchor=\"start\" x=\"0\" y=\"376\" transform=\"translate(316.25,0) rotate(30,0,370)\" style=\"font-family: 'Open Sans', verdana, arial, sans-serif; font-size: 12px; fill: rgb(42, 63, 95); fill-opacity: 1; white-space: pre;\">12/08/2019</text></g><g class=\"xtick\"><text text-anchor=\"start\" x=\"0\" y=\"376\" transform=\"translate(350,0) rotate(30,0,370)\" style=\"font-family: 'Open Sans', verdana, arial, sans-serif; font-size: 12px; fill: rgb(42, 63, 95); fill-opacity: 1; white-space: pre;\">12/09/2019</text></g><g class=\"xtick\"><text text-anchor=\"start\" x=\"0\" y=\"376\" transform=\"translate(383.75,0) rotate(30,0,370)\" style=\"font-family: 'Open Sans', verdana, arial, sans-serif; font-size: 12px; fill: rgb(42, 63, 95); fill-opacity: 1; white-space: pre;\">12/10/2019</text></g><g class=\"xtick\"><text text-anchor=\"start\" x=\"0\" y=\"376\" transform=\"translate(417.5,0) rotate(30,0,370)\" style=\"font-family: 'Open Sans', verdana, arial, sans-serif; font-size: 12px; fill: rgb(42, 63, 95); fill-opacity: 1; white-space: pre;\">12/11/2019</text></g><g class=\"xtick\"><text text-anchor=\"start\" x=\"0\" y=\"376\" transform=\"translate(451.25,0) rotate(30,0,370)\" style=\"font-family: 'Open Sans', verdana, arial, sans-serif; font-size: 12px; fill: rgb(42, 63, 95); fill-opacity: 1; white-space: pre;\">12/12/2019</text></g><g class=\"xtick\"><text text-anchor=\"start\" x=\"0\" y=\"376\" transform=\"translate(485,0) rotate(30,0,370)\" style=\"font-family: 'Open Sans', verdana, arial, sans-serif; font-size: 12px; fill: rgb(42, 63, 95); fill-opacity: 1; white-space: pre;\">12/13/2019</text></g><g class=\"xtick\"><text text-anchor=\"start\" x=\"0\" y=\"376\" transform=\"translate(518.75,0) rotate(30,0,370)\" style=\"font-family: 'Open Sans', verdana, arial, sans-serif; font-size: 12px; fill: rgb(42, 63, 95); fill-opacity: 1; white-space: pre;\">12/14/2019</text></g><g class=\"xtick\"><text text-anchor=\"start\" x=\"0\" y=\"376\" transform=\"translate(552.5,0) rotate(30,0,370)\" style=\"font-family: 'Open Sans', verdana, arial, sans-serif; font-size: 12px; fill: rgb(42, 63, 95); fill-opacity: 1; white-space: pre;\">12/15/2019</text></g><g class=\"xtick\"><text text-anchor=\"start\" x=\"0\" y=\"376\" transform=\"translate(586.25,0) rotate(30,0,370)\" style=\"font-family: 'Open Sans', verdana, arial, sans-serif; font-size: 12px; fill: rgb(42, 63, 95); fill-opacity: 1; white-space: pre;\">12/16/2019</text></g><g class=\"xtick\"><text text-anchor=\"start\" x=\"0\" y=\"376\" transform=\"translate(620,0) rotate(30,0,370)\" style=\"font-family: 'Open Sans', verdana, arial, sans-serif; font-size: 12px; fill: rgb(42, 63, 95); fill-opacity: 1; white-space: pre;\">12/17/2019</text></g></g><g class=\"yaxislayer-above\"><g class=\"ytick\"><text text-anchor=\"end\" x=\"79\" y=\"4.199999999999999\" transform=\"translate(0,356.45)\" style=\"font-family: 'Open Sans', verdana, arial, sans-serif; font-size: 12px; fill: rgb(42, 63, 95); fill-opacity: 1; white-space: pre;\">5</text></g><g class=\"ytick\"><text text-anchor=\"end\" x=\"79\" y=\"4.199999999999999\" transform=\"translate(0,307.52)\" style=\"font-family: 'Open Sans', verdana, arial, sans-serif; font-size: 12px; fill: rgb(42, 63, 95); fill-opacity: 1; white-space: pre;\">6</text></g><g class=\"ytick\"><text text-anchor=\"end\" x=\"79\" y=\"4.199999999999999\" transform=\"translate(0,258.59000000000003)\" style=\"font-family: 'Open Sans', verdana, arial, sans-serif; font-size: 12px; fill: rgb(42, 63, 95); fill-opacity: 1; white-space: pre;\">7</text></g><g class=\"ytick\"><text text-anchor=\"end\" x=\"79\" y=\"4.199999999999999\" transform=\"translate(0,209.66)\" style=\"font-family: 'Open Sans', verdana, arial, sans-serif; font-size: 12px; fill: rgb(42, 63, 95); fill-opacity: 1; white-space: pre;\">8</text></g><g class=\"ytick\"><text text-anchor=\"end\" x=\"79\" y=\"4.199999999999999\" transform=\"translate(0,160.74)\" style=\"font-family: 'Open Sans', verdana, arial, sans-serif; font-size: 12px; fill: rgb(42, 63, 95); fill-opacity: 1; white-space: pre;\">9</text></g><g class=\"ytick\"><text text-anchor=\"end\" x=\"79\" y=\"4.199999999999999\" transform=\"translate(0,111.81)\" style=\"font-family: 'Open Sans', verdana, arial, sans-serif; font-size: 12px; fill: rgb(42, 63, 95); fill-opacity: 1; white-space: pre;\">10</text></g><g class=\"ytick\"><text text-anchor=\"end\" x=\"79\" y=\"4.199999999999999\" transform=\"translate(0,62.88)\" style=\"font-family: 'Open Sans', verdana, arial, sans-serif; font-size: 12px; fill: rgb(42, 63, 95); fill-opacity: 1; white-space: pre;\">11</text></g></g><g class=\"overaxes-above\"/></g></g><g class=\"polarlayer\"/><g class=\"ternarylayer\"/><g class=\"geolayer\"/><g class=\"funnelarealayer\"/><g class=\"pielayer\"/><g class=\"treemaplayer\"/><g class=\"sunburstlayer\"/><g class=\"glimages\"/><defs id=\"topdefs-d9b292\"><g class=\"clips\"/></defs><g class=\"layer-above\"><g class=\"imagelayer\"/><g class=\"shapelayer\"/></g><g class=\"infolayer\"><g class=\"g-gtitle\"/><g class=\"g-xtitle\"><text class=\"xtitle\" x=\"350\" y=\"438.122265625\" text-anchor=\"middle\" style=\"font-family: 'Open Sans', verdana, arial, sans-serif; font-size: 14px; fill: rgb(42, 63, 95); opacity: 1; font-weight: normal; white-space: pre;\">date</text></g><g class=\"g-ytitle\"><text class=\"ytitle\" transform=\"rotate(-90,38.934375,211.5)\" x=\"38.934375\" y=\"211.5\" text-anchor=\"middle\" style=\"font-family: 'Open Sans', verdana, arial, sans-serif; font-size: 14px; fill: rgb(42, 63, 95); opacity: 1; font-weight: normal; white-space: pre;\">npv</text></g></g></svg>"
      ]
     },
     "metadata": {},
     "output_type": "display_data"
    }
   ],
   "source": [
    "# plotting\n",
    "df_plot = pandas.DataFrame({'date': dates, 'npv': npvs})\n",
    "fig = px.line(df_plot, x='date', y='npv')\n",
    "\n",
    "fig.show()"
   ]
  }
 ],
 "metadata": {
  "kernelspec": {
   "display_name": "Python 3",
   "language": "python",
   "name": "python3"
  },
  "language_info": {
   "codemirror_mode": {
    "name": "ipython",
    "version": 3
   },
   "file_extension": ".py",
   "mimetype": "text/x-python",
   "name": "python",
   "nbconvert_exporter": "python",
   "pygments_lexer": "ipython3",
   "version": "3.6.0"
  }
 },
 "nbformat": 4,
 "nbformat_minor": 2
}
